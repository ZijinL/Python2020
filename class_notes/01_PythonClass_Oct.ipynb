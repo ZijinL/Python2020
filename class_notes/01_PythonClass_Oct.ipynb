{
 "cells": [
  {
   "cell_type": "markdown",
   "metadata": {},
   "source": [
    "## 1014-序列、集合、字典、函数"
   ]
  },
  {
   "cell_type": "markdown",
   "metadata": {},
   "source": [
    "### 第一次课堂作业-模拟电梯"
   ]
  },
  {
   "cell_type": "code",
   "execution_count": 4,
   "metadata": {
    "collapsed": true
   },
   "outputs": [
    {
     "name": "stdout",
     "output_type": "stream",
     "text": [
      "Pls enter the minfloor (smaller than 14)\n",
      "enter a number: 12\n",
      "Pls enter the maxfloor (larger than 18)\n",
      "enter a number: 30\n",
      "Welcome to Zijin's elevator, pls enter the floor you want to go!\n",
      " (enter '0' to exit)\n",
      "enter a number: 0\n"
     ]
    },
    {
     "ename": "SystemExit",
     "evalue": "",
     "output_type": "error",
     "traceback": [
      "An exception has occurred, use %tb to see the full traceback.\n",
      "\u001b[1;31mSystemExit\u001b[0m\n"
     ]
    }
   ],
   "source": [
    "import sys\n",
    "\n",
    "def EnterNumber()->int:\n",
    "    \"\"\"\n",
    "    enter a number\n",
    "    return a valid number\n",
    "    \"\"\"\n",
    "    temp = input(\"enter a number: \")\n",
    "    flag = 0;\n",
    "    while flag == 0:\n",
    "        try:\n",
    "            number = int(temp)\n",
    "        except:\n",
    "            print(\"illeagal input\")\n",
    "            temp = input(\"pls enter again: \")\n",
    "        else:\n",
    "            flag = 1\n",
    "    return number  \n",
    "\n",
    "def Elevator(minfloor, maxfloor)->int:\n",
    "    \"\"\"\n",
    "    enter the floor you want to go \n",
    "    return the actual floor you will go\n",
    "    enter 0 to exit this program\n",
    "    \"\"\"\n",
    "    print(\"Welcome to Zijin's elevator, pls enter the floor you want to go!\\n (enter '0' to exit)\")\n",
    "    floor_des = EnterNumber()\n",
    "    while floor_des != 0:\n",
    "        if floor_des > maxfloor:\n",
    "            print(\"the floor is too high\")\n",
    "        elif floor_des < minfloor:\n",
    "            print(\"the floor is too low\")\n",
    "        elif floor_des < 14:\n",
    "            print(\"actual floor: \", floor_des)\n",
    "        elif floor_des in [14, 18]:\n",
    "            print(\"floor not exists\")\n",
    "        elif floor_des < 18:\n",
    "            print(\"actual floor: \", floor_des - 1)\n",
    "        else:\n",
    "            print(\"actual floor: \", floor_des - 2)\n",
    "        floor_des = EnterNumber()\n",
    "        \n",
    "def initElevator():\n",
    "    print(\"Pls enter the minfloor (smaller than 14)\")\n",
    "    flag = 0;  # 设立循环标志位\n",
    "    while flag == 0:\n",
    "        minfloor = EnterNumber()\n",
    "        if minfloor < 14:\n",
    "            flag = 1\n",
    "    print(\"Pls enter the maxfloor (larger than 18)\")\n",
    "    flag = 0;  # 设立循环标志位\n",
    "    while flag == 0:\n",
    "        maxfloor = EnterNumber()\n",
    "        if maxfloor > 18:\n",
    "            flag = 1\n",
    "    return minfloor, maxfloor\n",
    "\n",
    "def main():\n",
    "    minfloor, maxfloor = initElevator()\n",
    "    Elevator(minfloor, maxfloor)\n",
    "\n",
    "if __name__ == \"__main__\":\n",
    "    sys.exit(main())"
   ]
  },
  {
   "cell_type": "markdown",
   "metadata": {},
   "source": [
    "## 1021-函数"
   ]
  },
  {
   "cell_type": "code",
   "execution_count": 5,
   "metadata": {},
   "outputs": [
    {
     "name": "stdout",
     "output_type": "stream",
     "text": [
      "140727603609968\n",
      "140727603609968\n"
     ]
    }
   ],
   "source": [
    "# python在启动时会自动在内存中生成一些小常量\n",
    "# 小常量：-5~256\n",
    "x = 256\n",
    "y = 256\n",
    "print(id(x))\n",
    "print(id(y))"
   ]
  },
  {
   "cell_type": "code",
   "execution_count": 6,
   "metadata": {},
   "outputs": [],
   "source": [
    "num_lst = list(range(10))\n",
    "alpha_lst = list\n",
    "char_lst = "
   ]
  },
  {
   "cell_type": "code",
   "execution_count": 7,
   "metadata": {},
   "outputs": [
    {
     "name": "stdout",
     "output_type": "stream",
     "text": [
      "[0, 1, 2, 3, 4, 5, 6, 7, 8, 9]\n"
     ]
    }
   ],
   "source": [
    "print(num_lst)"
   ]
  },
  {
   "cell_type": "markdown",
   "metadata": {},
   "source": [
    "首先考虑密码的长度、密码字符的集合（符号集合、大小写）、复杂度校验（最长连续序列）\n",
    "定义一批用户作为函数的参数，定义密码长度作为参数，返回用户和对应密码的字典"
   ]
  },
  {
   "cell_type": "markdown",
   "metadata": {},
   "source": [
    "## 1028 装饰器/文件操作"
   ]
  },
  {
   "cell_type": "markdown",
   "metadata": {},
   "source": [
    "### 装饰器"
   ]
  },
  {
   "cell_type": "code",
   "execution_count": 26,
   "metadata": {},
   "outputs": [],
   "source": [
    "def sum_times(m=3, n=5, max_num=10000000):\n",
    "    sum = 0\n",
    "    for i in range(max_num//3):\n",
    "        sum += 3*i\n",
    "    for i in range(max_num//5):\n",
    "        sum += 5*i\n",
    "    for i in range(max_num//15):\n",
    "        sum -= 15*i\n",
    "    return sum"
   ]
  },
  {
   "cell_type": "code",
   "execution_count": 27,
   "metadata": {},
   "outputs": [
    {
     "data": {
      "text/plain": [
       "23333331666659"
      ]
     },
     "execution_count": 27,
     "metadata": {},
     "output_type": "execute_result"
    }
   ],
   "source": [
    "sum_times()"
   ]
  },
  {
   "cell_type": "code",
   "execution_count": 28,
   "metadata": {},
   "outputs": [
    {
     "name": "stdout",
     "output_type": "stream",
     "text": [
      "18.0150936\n"
     ]
    }
   ],
   "source": [
    "from timeit import Timer\n",
    "t = Timer(\"sum_times()\", \"from __main__ import sum_times\")\n",
    "print(t.timeit(number = 10))"
   ]
  },
  {
   "cell_type": "code",
   "execution_count": 23,
   "metadata": {},
   "outputs": [
    {
     "name": "stdout",
     "output_type": "stream",
     "text": [
      "Time 4.134944200515747 \n",
      "\n"
     ]
    }
   ],
   "source": [
    "import time\n",
    "\n",
    "def timeCount(func):\n",
    "    def wrapTheFunction(*args, **kwargs):\n",
    "        t1 = time.time()\n",
    "        func(*args, **kwargs)\n",
    "        t2 = time.time()\n",
    "        print(\"Time\", t2-t1, \"\\n\")\n",
    "    return wrapTheFunction\n",
    "\n",
    "@timeCount\n",
    "def sum_times(m=3, n=5, max_num=10000000):\n",
    "    sum = 0\n",
    "    for i in range(max_num):\n",
    "        if i%m == 0:\n",
    "            sum += i\n",
    "        elif i%n == 0:\n",
    "            sum += i\n",
    "    return sum\n",
    "\n",
    "sum_times()"
   ]
  },
  {
   "cell_type": "markdown",
   "metadata": {},
   "source": [
    "### os模块"
   ]
  },
  {
   "cell_type": "code",
   "execution_count": 30,
   "metadata": {},
   "outputs": [],
   "source": [
    "import os"
   ]
  },
  {
   "cell_type": "code",
   "execution_count": 36,
   "metadata": {},
   "outputs": [
    {
     "name": "stdout",
     "output_type": "stream",
     "text": [
      "nt\n",
      "\\\n",
      "C:\\A - Sync\\OneDrive - tongji.edu.cn\\PYDA\\98-JupyterNote\\05-PythonPKU\n"
     ]
    }
   ],
   "source": [
    "# 获取系统名称\n",
    "print(os.name)\n",
    "\n",
    "# 获取系统目录分隔符\n",
    "# 注意写路径时灵活用raw字符串\n",
    "print(os.sep)\n",
    "\n",
    "# 获取当前的路径\n",
    "print(os.getcwd())"
   ]
  },
  {
   "cell_type": "code",
   "execution_count": 43,
   "metadata": {
    "collapsed": true
   },
   "outputs": [
    {
     "name": "stdout",
     "output_type": "stream",
     "text": [
      "environ({'ALLUSERSPROFILE': 'C:\\\\ProgramData', 'APPDATA': 'C:\\\\Users\\\\98608\\\\AppData\\\\Roaming', 'COMMONPROGRAMFILES': 'C:\\\\Program Files\\\\Common Files', 'COMMONPROGRAMFILES(X86)': 'C:\\\\Program Files (x86)\\\\Common Files', 'COMMONPROGRAMW6432': 'C:\\\\Program Files\\\\Common Files', 'COMPUTERNAME': 'TZUCHIN-PC', 'COMSPEC': 'C:\\\\WINDOWS\\\\system32\\\\cmd.exe', 'DRIVERDATA': 'C:\\\\Windows\\\\System32\\\\Drivers\\\\DriverData', 'FPS_BROWSER_APP_PROFILE_STRING': 'Internet Explorer', 'FPS_BROWSER_USER_PROFILE_STRING': 'Default', 'HOMEDRIVE': 'C:', 'HOMEPATH': '\\\\Users\\\\98608', 'LOCALAPPDATA': 'C:\\\\Users\\\\98608\\\\AppData\\\\Local', 'LOGONSERVER': '\\\\\\\\TZUCHIN-PC', 'NUMBER_OF_PROCESSORS': '4', 'ONEDRIVE': 'C:\\\\A - Sync\\\\OneDrive - tongji.edu.cn', 'ONEDRIVECOMMERCIAL': 'C:\\\\A - Sync\\\\OneDrive - tongji.edu.cn', 'ONEDRIVECONSUMER': 'D:\\\\OneDrive', 'OS': 'Windows_NT', 'PATH': 'C:\\\\ProgramData\\\\Anaconda3;C:\\\\ProgramData\\\\Anaconda3\\\\Library\\\\mingw-w64\\\\bin;C:\\\\ProgramData\\\\Anaconda3\\\\Library\\\\usr\\\\bin;C:\\\\ProgramData\\\\Anaconda3\\\\Library\\\\bin;C:\\\\ProgramData\\\\Anaconda3\\\\Scripts;C:\\\\Program Files\\\\AdoptOpenJDK\\\\jdk-11.0.8.10-hotspot\\\\bin;C:\\\\ProgramData\\\\Anaconda3;C:\\\\ProgramData\\\\Anaconda3\\\\Library\\\\mingw-w64\\\\bin;C:\\\\ProgramData\\\\Anaconda3\\\\Library\\\\usr\\\\bin;C:\\\\ProgramData\\\\Anaconda3\\\\Library\\\\bin;C:\\\\ProgramData\\\\Anaconda3\\\\Scripts;C:\\\\WINDOWS\\\\system32;C:\\\\WINDOWS;C:\\\\WINDOWS\\\\System32\\\\Wbem;C:\\\\WINDOWS\\\\System32\\\\WindowsPowerShell\\\\v1.0\\\\;C:\\\\WINDOWS\\\\System32\\\\OpenSSH\\\\;C:\\\\Program Files (x86)\\\\MySQL\\\\mysql-8.0.19-winx64\\\\bin;C:\\\\MinGW\\\\bin;C:\\\\Program Files\\\\Git\\\\cmd;C:\\\\Program Files (x86)\\\\Vim\\\\vim82;C:\\\\Users\\\\98608\\\\AppData\\\\Local\\\\Microsoft\\\\WindowsApps;C:\\\\Program Files\\\\Bandizip\\\\;C:\\\\Users\\\\98608\\\\AppData\\\\Local\\\\Microsoft\\\\WindowsApps;C:\\\\A - Sync\\\\OneDrive - tongji.edu.cn\\\\D\\\\Green Software\\\\Shortcut;C:\\\\Users\\\\98608\\\\AppData\\\\Local\\\\Programs\\\\Microsoft VS Code\\\\bin;C:\\\\Users\\\\98608\\\\AppData\\\\Local\\\\GitHubDesktop\\\\bin', 'PATHEXT': '.COM;.EXE;.BAT;.CMD;.VBS;.VBE;.JS;.JSE;.WSF;.WSH;.MSC', 'PROCESSOR_ARCHITECTURE': 'AMD64', 'PROCESSOR_IDENTIFIER': 'Intel64 Family 6 Model 78 Stepping 3, GenuineIntel', 'PROCESSOR_LEVEL': '6', 'PROCESSOR_REVISION': '4e03', 'PROGRAMDATA': 'C:\\\\ProgramData', 'PROGRAMFILES': 'C:\\\\Program Files', 'PROGRAMFILES(X86)': 'C:\\\\Program Files (x86)', 'PROGRAMW6432': 'C:\\\\Program Files', 'PSMODULEPATH': 'C:\\\\Program Files\\\\WindowsPowerShell\\\\Modules;C:\\\\WINDOWS\\\\system32\\\\WindowsPowerShell\\\\v1.0\\\\Modules', 'PUBLIC': 'C:\\\\Users\\\\Public', 'SESSIONNAME': 'Console', 'SYSTEMDRIVE': 'C:', 'SYSTEMROOT': 'C:\\\\WINDOWS', 'TEMP': 'C:\\\\Users\\\\98608\\\\AppData\\\\Local\\\\Temp', 'TMP': 'C:\\\\Users\\\\98608\\\\AppData\\\\Local\\\\Temp', 'USERDOMAIN': 'TZUCHIN-PC', 'USERDOMAIN_ROAMINGPROFILE': 'TZUCHIN-PC', 'USERNAME': '98608', 'USERPROFILE': 'C:\\\\Users\\\\98608', 'WINDIR': 'C:\\\\WINDOWS', 'WXDRIVE_START_ARGS': '--wxdrive-setting=0 --disable-gpu --disable-software-rasterizer --enable-features=NetworkServiceInProcess', 'CONDA_PREFIX': 'C:\\\\ProgramData\\\\Anaconda3', 'KERNEL_LAUNCH_TIMEOUT': '40', 'JPY_INTERRUPT_EVENT': '2324', 'IPY_INTERRUPT_EVENT': '2324', 'JPY_PARENT_PID': '2388', 'TERM': 'xterm-color', 'CLICOLOR': '1', 'PAGER': 'cat', 'GIT_PAGER': 'cat', 'MPLBACKEND': 'module://ipykernel.pylab.backend_inline'})\n"
     ]
    }
   ],
   "source": [
    "# 获取当前的环境变量 -> dict\n",
    "print(os.environ)"
   ]
  },
  {
   "cell_type": "code",
   "execution_count": 45,
   "metadata": {},
   "outputs": [
    {
     "name": "stdout",
     "output_type": "stream",
     "text": [
      "['.ipynb_checkpoints', 'a.csv', 'Python-Homework(1-3).ipynb', 'Python-课堂笔记-1 Oct.ipynb']\n"
     ]
    }
   ],
   "source": [
    "# 获取指定目录下的文件目录 -> list\n",
    "# \".\"代表当前目录的缺省值\n",
    "# \"..\"代表上一层目录\n",
    "print(os.listdir(path=\".\"))"
   ]
  },
  {
   "cell_type": "code",
   "execution_count": 46,
   "metadata": {
    "collapsed": true
   },
   "outputs": [
    {
     "ename": "FileNotFoundError",
     "evalue": "[WinError 3] The system cannot find the path specified: ''",
     "output_type": "error",
     "traceback": [
      "\u001b[1;31m---------------------------------------------------------------------------\u001b[0m",
      "\u001b[1;31mFileNotFoundError\u001b[0m                         Traceback (most recent call last)",
      "\u001b[1;32m<ipython-input-46-36bb0be71a40>\u001b[0m in \u001b[0;36m<module>\u001b[1;34m\u001b[0m\n\u001b[0;32m      1\u001b[0m \u001b[1;31m# 创建路径中的最后一个目录\u001b[0m\u001b[1;33m\u001b[0m\u001b[1;33m\u001b[0m\u001b[1;33m\u001b[0m\u001b[0m\n\u001b[1;32m----> 2\u001b[1;33m \u001b[0mos\u001b[0m\u001b[1;33m.\u001b[0m\u001b[0mmkdir\u001b[0m\u001b[1;33m(\u001b[0m\u001b[0mpath\u001b[0m\u001b[1;33m=\u001b[0m\u001b[1;34m\"\"\u001b[0m\u001b[1;33m)\u001b[0m\u001b[1;33m\u001b[0m\u001b[1;33m\u001b[0m\u001b[0m\n\u001b[0m\u001b[0;32m      3\u001b[0m \u001b[1;33m\u001b[0m\u001b[0m\n\u001b[0;32m      4\u001b[0m \u001b[1;31m# 可以用于依次创建路径中所有不存在的目录\u001b[0m\u001b[1;33m\u001b[0m\u001b[1;33m\u001b[0m\u001b[1;33m\u001b[0m\u001b[0m\n\u001b[0;32m      5\u001b[0m \u001b[0mos\u001b[0m\u001b[1;33m.\u001b[0m\u001b[0mmakedirs\u001b[0m\u001b[1;33m(\u001b[0m\u001b[0mpath\u001b[0m\u001b[1;33m=\u001b[0m\u001b[1;34m\"\"\u001b[0m\u001b[1;33m)\u001b[0m\u001b[1;33m\u001b[0m\u001b[1;33m\u001b[0m\u001b[0m\n",
      "\u001b[1;31mFileNotFoundError\u001b[0m: [WinError 3] The system cannot find the path specified: ''"
     ]
    }
   ],
   "source": [
    "# 创建路径中的最后一个目录\n",
    "os.mkdir(path=\"\")\n",
    "\n",
    "# 可以用于依次创建路径中所有不存在的目录\n",
    "os.makedirs(path=\"\")"
   ]
  },
  {
   "cell_type": "code",
   "execution_count": null,
   "metadata": {},
   "outputs": [],
   "source": [
    "# 删除必须为空的目录\n",
    "os.rmdir(path=\"\")\n",
    "\n",
    "# 删除路径最后多层目录\n",
    "os.removedirs(path=\"\")"
   ]
  },
  {
   "cell_type": "code",
   "execution_count": null,
   "metadata": {},
   "outputs": [],
   "source": [
    "# 获取指定相对路径的绝对路径\n",
    "os.path.abspath(path=\"\")\n",
    "\n",
    "# 获取文件所在目录的路径\n",
    "# 除去文件名后的路径\n",
    "os.path.dirname(path=\"\")\n",
    "\n",
    "# 获取指定路径中的文件名\n",
    "os.path.basename(path=\"\")\n",
    "\n",
    "# 将指定的路径分解为路径名和文件名/目录名\n",
    "# 返回元组类型（路径名，文件名/目录名）\n",
    "os.path.split(path)"
   ]
  },
  {
   "cell_type": "code",
   "execution_count": null,
   "metadata": {},
   "outputs": [],
   "source": [
    "# 把扩展名从指定路径中分离\n",
    "# 返回元组类型（路径名+文件名/目录名, 扩展名）\n",
    "os.path.splitext(path)\n",
    "\n",
    "# 路径连接\n",
    "# 把路径和子路径或者文件名连接成一个完整的路径\n",
    "os.path.join(path, *paths)\n"
   ]
  },
  {
   "cell_type": "code",
   "execution_count": null,
   "metadata": {},
   "outputs": [],
   "source": [
    "# 判断指定的路径目标是否为文件\n",
    "os.path.isfile(path)\n",
    "\n",
    "# 判断指定的路径是否为目录\n",
    "os.path.isdir(path)\n",
    "\n",
    "# 判断路径是否存在\n",
    "os.path.exists(path)\n",
    "\n",
    "# 盘那段路径是否为绝对路径\n",
    "os.path.isabs(path)"
   ]
  },
  {
   "cell_type": "markdown",
   "metadata": {},
   "source": [
    "### 文件打开与关闭"
   ]
  },
  {
   "cell_type": "code",
   "execution_count": 62,
   "metadata": {},
   "outputs": [],
   "source": [
    "f = open(\"a.csv\")"
   ]
  },
  {
   "cell_type": "code",
   "execution_count": null,
   "metadata": {},
   "outputs": [],
   "source": [
    "f = open(\n",
    "    file,\n",
    "    mode='r',\n",
    "    buffering=-1,\n",
    "    encoding=None,\n",
    "    errors=None,\n",
    "    newline=None,\n",
    "    closefd=True,\n",
    "    opener=None,\n",
    ")"
   ]
  },
  {
   "cell_type": "code",
   "execution_count": 53,
   "metadata": {},
   "outputs": [],
   "source": [
    "# 关于文件打开与关闭的模式\n",
    "\"\"\"\n",
    "Character Meaning\n",
    "--------- ---------------------------------------------------------------\n",
    "基本形式\n",
    "'r'       1. open for reading (默认)\n",
    "'w'       2. open for writing, truncating the file first\n",
    "'a'       3. 打开后文本指针指向文本末尾，不存在则自动创建\n",
    "其他形式\n",
    "'x'       create a new file and open it for writing\n",
    "'b'       1. 二进制模式\n",
    "'t'       2. 文本模式（默认)\n",
    "\n",
    "'+'       open a disk file for updating (reading and writing)\n",
    "'U'       universal newline mode (deprecated)\n",
    "\"\"\""
   ]
  },
  {
   "cell_type": "code",
   "execution_count": null,
   "metadata": {},
   "outputs": [],
   "source": [
    "# 文件关闭操作\n",
    "f.close()\n",
    "\n",
    "# 检测文件是否已经关闭 -> bool\n",
    "f.closed\n",
    "\n",
    "# 避免忘记关闭文件\n",
    "with open(file) as f:\n",
    "    pass"
   ]
  },
  {
   "cell_type": "code",
   "execution_count": null,
   "metadata": {},
   "outputs": [],
   "source": [
    "# 将字符串写入文件中, 返回写入的字符大小\n",
    "# 写入之后不会换行\n",
    "f.write(str)\n",
    "\n",
    "# 从文件中读取指定数量的字符\n",
    "# 遇到EOF即停止\n",
    "f.read(size=-1)"
   ]
  },
  {
   "cell_type": "code",
   "execution_count": 63,
   "metadata": {},
   "outputs": [
    {
     "data": {
      "text/plain": [
       "'name,password\\n'"
      ]
     },
     "execution_count": 63,
     "metadata": {},
     "output_type": "execute_result"
    }
   ],
   "source": [
    "# 按行读取数据,以字符串的形式返回\n",
    "f.readline()\n",
    "\n",
    "# 按行读取全部数据,以列表的形式返回\n",
    "f.readlines()"
   ]
  },
  {
   "cell_type": "code",
   "execution_count": 66,
   "metadata": {},
   "outputs": [
    {
     "data": {
      "text/plain": [
       "0"
      ]
     },
     "execution_count": 66,
     "metadata": {},
     "output_type": "execute_result"
    }
   ],
   "source": [
    "# 移动文件指针,从而实现文件的随机读取\n",
    "# 返回移动后指针光标的绝对位置\n",
    "# pos: 偏移量\n",
    "# offset: 偏移量选择的参考系(0-文件头-默认值-偏移量常为负值,1-当前指针为参考系-可正可负,2-文件尾-便宜量常为正)\n",
    "f.seek(pos, offset)"
   ]
  },
  {
   "cell_type": "code",
   "execution_count": 67,
   "metadata": {},
   "outputs": [],
   "source": [
    "f.seek?"
   ]
  },
  {
   "cell_type": "code",
   "execution_count": null,
   "metadata": {},
   "outputs": [],
   "source": []
  }
 ],
 "metadata": {
  "kernelspec": {
   "display_name": "Python 3",
   "language": "python",
   "name": "python3"
  },
  "language_info": {
   "codemirror_mode": {
    "name": "ipython",
    "version": 3
   },
   "file_extension": ".py",
   "mimetype": "text/x-python",
   "name": "python",
   "nbconvert_exporter": "python",
   "pygments_lexer": "ipython3",
   "version": "3.7.6"
  },
  "toc": {
   "base_numbering": 1,
   "nav_menu": {},
   "number_sections": true,
   "sideBar": true,
   "skip_h1_title": false,
   "title_cell": "Table of Contents",
   "title_sidebar": "Contents",
   "toc_cell": false,
   "toc_position": {
    "height": "calc(100% - 180px)",
    "left": "10px",
    "top": "150px",
    "width": "284.444px"
   },
   "toc_section_display": true,
   "toc_window_display": true
  }
 },
 "nbformat": 4,
 "nbformat_minor": 4
}
