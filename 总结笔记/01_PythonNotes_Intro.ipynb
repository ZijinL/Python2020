{
 "cells": [
  {
   "cell_type": "markdown",
   "metadata": {},
   "source": [
    "## Python基本介绍"
   ]
  },
  {
   "cell_type": "markdown",
   "metadata": {},
   "source": [
    "### 基本特性"
   ]
  },
  {
   "cell_type": "markdown",
   "metadata": {},
   "source": [
    "1. 解释型：没有编译，直接解释运行；类似`PHP`，`Perl`，注意区别`Java`\n",
    "2. 交互式：命令行可以解决很多小问题，无需打开IDLE。交互性好\n",
    "3. 开放源代码：Python可被移植到各种平台上\n",
    "4. 可扩展：\n",
    "5. 可嵌入：将Python程序嵌入到C/C++程序中"
   ]
  },
  {
   "cell_type": "markdown",
   "metadata": {},
   "source": [
    "### 其他信息"
   ]
  },
  {
   "cell_type": "markdown",
   "metadata": {},
   "source": [
    "#### 统计代码执行时间"
   ]
  },
  {
   "cell_type": "markdown",
   "metadata": {},
   "source": [
    "1. 方法一：time 模块中的 time.time()\n",
    "\n",
    "    方法一的执行的精度较差，除了在UNIX不推荐\n",
    "\n",
    "```python\n",
    "import time\n",
    "start = time.time()\n",
    "run_function()\n",
    "end = time.time()\n",
    "print(end-start)\n",
    "```"
   ]
  },
  {
   "cell_type": "markdown",
   "metadata": {},
   "source": [
    "2. 方法二：time 模块中的 time.clock()\n",
    "\n",
    "    方法二较为常用，一般Windows Linux都可\n",
    "    \n",
    "```python\n",
    "import time\n",
    "start = time.clock()\n",
    "run_function()\n",
    "end = time.clock()\n",
    "print(end-start)\n",
    "```\n",
    "\n",
    "3. 方法三：timeit模块中的default_timer()\n",
    "\n",
    "    方法三可以实现跨平台的精度\n",
    "\n",
    "```python\n",
    "import timeit\n",
    "start = timeit.default_timer()\n",
    "do_func()\n",
    "end = timeit.default_timer()\n",
    "print(end-start)\n",
    "```\n",
    "\n",
    "4. 方法四：timeit 模块中的 Timer\n",
    "\n",
    "    跨平台的精度，方便统计短语句的执行时间\n",
    "\n",
    "```python\n",
    "from timeit import Timer\n",
    "t = Timer(\"call_func()\", \"from __main__ import call_func\")\n",
    "print(t.timeit(number = 10))\n",
    "```\n",
    "\n",
    "5. 方法五： IPython命令行形式快速统计\n",
    "    \n",
    "    待定\n",
    "\n",
    "```python\n",
    "```"
   ]
  },
  {
   "cell_type": "code",
   "execution_count": null,
   "metadata": {},
   "outputs": [],
   "source": []
  }
 ],
 "metadata": {
  "kernelspec": {
   "display_name": "Python 3",
   "language": "python",
   "name": "python3"
  },
  "language_info": {
   "codemirror_mode": {
    "name": "ipython",
    "version": 3
   },
   "file_extension": ".py",
   "mimetype": "text/x-python",
   "name": "python",
   "nbconvert_exporter": "python",
   "pygments_lexer": "ipython3",
   "version": "3.7.6"
  },
  "toc": {
   "base_numbering": 1,
   "nav_menu": {},
   "number_sections": true,
   "sideBar": true,
   "skip_h1_title": false,
   "title_cell": "Table of Contents",
   "title_sidebar": "Contents",
   "toc_cell": false,
   "toc_position": {},
   "toc_section_display": true,
   "toc_window_display": true
  }
 },
 "nbformat": 4,
 "nbformat_minor": 4
}
