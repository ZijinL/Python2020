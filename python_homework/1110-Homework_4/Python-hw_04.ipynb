{
 "cells": [
  {
   "cell_type": "markdown",
   "metadata": {},
   "source": [
    "## Python-hw_04"
   ]
  },
  {
   "cell_type": "markdown",
   "metadata": {},
   "source": [
    "### 题目"
   ]
  },
  {
   "cell_type": "markdown",
   "metadata": {},
   "source": [
    "编写一个模块，该模块实现的功能如下：\n",
    "\n",
    "1、引入grammar模块，通过引入的grammar模块生成句子，并把生成的句子写到名字为data.txt的文件中，写1亿次。（生成句子的grammar模块上传到了资料栏目中）\n",
    "\n",
    "2、参考课上讲解的代码，通过装饰器测试在几种不同读取数据（读取自己生成的data.txt文件）的方式下的运行时间。"
   ]
  },
  {
   "cell_type": "markdown",
   "metadata": {},
   "source": [
    "### 代码"
   ]
  },
  {
   "cell_type": "code",
   "execution_count": 3,
   "metadata": {},
   "outputs": [],
   "source": [
    "# grammar\n",
    "from random import choice, seed, randrange\n",
    "\n",
    "articles = (\"a\", \"the\", \"1\", \"2\", \"3\", \"4\", \"5\", \"6\", \"7\", \"8\", \"9\", \"10\")\n",
    "nouns = (\"cat\", \"dog\", \"sheep\", \"rabbit\", \"tiger\", \"chicken\",\n",
    "         \"fish\", \"grass\", \"seed\", \"carrot\", \"apple\")\n",
    "verbs = (\"eats\", \"catches\", \"finds\")\n",
    "\n",
    "\n",
    "def sentence():\n",
    "    return noun_phrase() + verb_phrase()\n",
    "\n",
    "\n",
    "def noun_phrase():\n",
    "    return [choice(articles), choice(nouns)]\n",
    "\n",
    "\n",
    "def verb_phrase():\n",
    "    vp = [choice(verbs)]\n",
    "    if randrange(3) > 0:\n",
    "        vp.extend(noun_phrase())\n",
    "    return vp"
   ]
  },
  {
   "cell_type": "markdown",
   "metadata": {},
   "source": [
    "**如果是在编译器中同一个package下，直接import grammar**"
   ]
  },
  {
   "cell_type": "code",
   "execution_count": 44,
   "metadata": {},
   "outputs": [],
   "source": [
    "import time\n",
    "def timeCount(func):\n",
    "    def wrapTheFunction(*args, **kwargs):\n",
    "        t1 = time.time()\n",
    "        func(*args, **kwargs)\n",
    "        t2 = time.time()\n",
    "        print(\"Time\", t2-t1, \"\\n\")\n",
    "    return wrapTheFunction"
   ]
  },
  {
   "cell_type": "code",
   "execution_count": 45,
   "metadata": {},
   "outputs": [],
   "source": [
    "import os\n",
    "@timeCount\n",
    "def gen_files(path, lines):\n",
    "    if not os.path.exists(path):\n",
    "        f = open(path, 'a')\n",
    "    else:\n",
    "        f = open(path, 'w')\n",
    "    for i in range(lines):\n",
    "        f.write(\" \".join(sentence())+'\\n')\n",
    "    f.close()"
   ]
  },
  {
   "cell_type": "code",
   "execution_count": 50,
   "metadata": {
    "scrolled": true
   },
   "outputs": [],
   "source": [
    "@timeCount\n",
    "def read_file_full(path):\n",
    "    \"\"\"\n",
    "    read the full file\n",
    "    \"\"\"\n",
    "    with open(path, 'r') as f:\n",
    "        f.readlines()\n",
    "    print(\"read_file_full: \", end=\"\")\n",
    "    \n",
    "@timeCount\n",
    "def read_file_line(path):\n",
    "    \"\"\"\n",
    "    read file line by line\n",
    "    \"\"\"\n",
    "    with open(path, 'r') as f:\n",
    "        while(f.readline()):\n",
    "            f.readline()\n",
    "    print(\"read_file_line: \", end=\"\")\n",
    "            \n",
    "@timeCount\n",
    "def read_file_char_1(path):\n",
    "    \"\"\"\n",
    "    read file char by char\n",
    "    \"\"\"\n",
    "    with open(path, 'r') as f:\n",
    "        while(f.read(1)):\n",
    "            f.read(1)\n",
    "    print(\"read_file_char_1: \", end=\"\")\n",
    "        \n",
    "@timeCount\n",
    "def read_file_char_100(path):\n",
    "    \"\"\"\n",
    "    read 100 char each loop\n",
    "    \"\"\"\n",
    "    with open(path, 'r') as f:\n",
    "        while(f.read(100)):\n",
    "            f.read(100)\n",
    "    print(\"read_file_char_100: \", end=\"\")\n",
    "        \n",
    "@timeCount\n",
    "def read_file_char_10000(path):\n",
    "    \"\"\"\n",
    "    read 10000 char each loop\n",
    "    \"\"\"\n",
    "    with open(path, 'r') as f:\n",
    "        while(f.read(10000)):\n",
    "            f.read(10000)\n",
    "    print(\"read_file_char_10000: \", end=\"\")\n",
    "        \n",
    "@timeCount\n",
    "def read_file_char_1000000(path):\n",
    "    \"\"\"\n",
    "    read 1000000 char each loop\n",
    "    \"\"\"\n",
    "    with open(path, 'r') as f:\n",
    "        while(f.read(1000000)):\n",
    "            f.read(1000000)\n",
    "    print(\"read_file_char_1000000: \", end=\"\")"
   ]
  },
  {
   "cell_type": "code",
   "execution_count": 51,
   "metadata": {},
   "outputs": [],
   "source": [
    "path = r\"C:\\A - Sync\\OneDrive - pku.edu.cn\\data.txt\"\n",
    "lines = 100000000"
   ]
  },
  {
   "cell_type": "code",
   "execution_count": 52,
   "metadata": {},
   "outputs": [
    {
     "name": "stdout",
     "output_type": "stream",
     "text": [
      "Time 1089.1728117465973 \n",
      "\n"
     ]
    }
   ],
   "source": [
    "gen_files(path, lines)"
   ]
  },
  {
   "cell_type": "code",
   "execution_count": 53,
   "metadata": {},
   "outputs": [
    {
     "name": "stdout",
     "output_type": "stream",
     "text": [
      "read_file_full: Time 103.1882677078247 \n",
      "\n",
      "read_file_line: Time 41.27671837806702 \n",
      "\n",
      "read_file_char_1: Time 457.2329993247986 \n",
      "\n",
      "read_file_char_100: Time 27.350624561309814 \n",
      "\n",
      "read_file_char_10000: Time 22.390142917633057 \n",
      "\n",
      "read_file_char_1000000: Time 25.844446897506714 \n",
      "\n"
     ]
    }
   ],
   "source": [
    "read_file_full(path)\n",
    "read_file_line(path)\n",
    "read_file_char_1(path)\n",
    "read_file_char_100(path)\n",
    "read_file_char_10000(path)\n",
    "read_file_char_1000000(path)"
   ]
  },
  {
   "cell_type": "markdown",
   "metadata": {},
   "source": [
    "### 结论\n",
    "读取文件时，一次性读取太大，超过缓冲区容量会使得时间特别长；而一次性读取太小则不能很好利用缓冲区的空间，增加I/O次数会带来不小的开销。从这里的结果来看，一次性读取8M左右的大小是一个比较合适的范围。"
   ]
  },
  {
   "cell_type": "markdown",
   "metadata": {},
   "source": [
    "### 运行截图\n"
   ]
  },
  {
   "cell_type": "markdown",
   "metadata": {},
   "source": [
    "<img src=\"Screenshot 2020-11-09 213643.jpg\">"
   ]
  },
  {
   "cell_type": "code",
   "execution_count": null,
   "metadata": {},
   "outputs": [],
   "source": []
  }
 ],
 "metadata": {
  "kernelspec": {
   "display_name": "Python 3",
   "language": "python",
   "name": "python3"
  },
  "language_info": {
   "codemirror_mode": {
    "name": "ipython",
    "version": 3
   },
   "file_extension": ".py",
   "mimetype": "text/x-python",
   "name": "python",
   "nbconvert_exporter": "python",
   "pygments_lexer": "ipython3",
   "version": "3.7.9"
  },
  "toc": {
   "base_numbering": 1,
   "nav_menu": {},
   "number_sections": true,
   "sideBar": true,
   "skip_h1_title": true,
   "title_cell": "Table of Contents",
   "title_sidebar": "Contents",
   "toc_cell": false,
   "toc_position": {},
   "toc_section_display": true,
   "toc_window_display": true
  }
 },
 "nbformat": 4,
 "nbformat_minor": 4
}
